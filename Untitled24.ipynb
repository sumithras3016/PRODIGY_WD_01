{
  "nbformat": 4,
  "nbformat_minor": 0,
  "metadata": {
    "colab": {
      "provenance": [],
      "authorship_tag": "ABX9TyO32dI3xNj99gXbJa3kth0j",
      "include_colab_link": true
    },
    "kernelspec": {
      "name": "python3",
      "display_name": "Python 3"
    },
    "language_info": {
      "name": "python"
    }
  },
  "cells": [
    {
      "cell_type": "markdown",
      "metadata": {
        "id": "view-in-github",
        "colab_type": "text"
      },
      "source": [
        "<a href=\"https://colab.research.google.com/github/sumithras3016/PRODIGY_WD_01/blob/main/Untitled24.ipynb\" target=\"_parent\"><img src=\"https://colab.research.google.com/assets/colab-badge.svg\" alt=\"Open In Colab\"/></a>"
      ]
    },
    {
      "cell_type": "code",
      "execution_count": 1,
      "metadata": {
        "colab": {
          "base_uri": "https://localhost:8080/",
          "height": 124
        },
        "id": "9eY9xuF8f8vm",
        "outputId": "c8012806-a3c4-4d16-df21-eb26c183186f"
      },
      "outputs": [
        {
          "output_type": "error",
          "ename": "SyntaxError",
          "evalue": "invalid syntax (<ipython-input-1-a9decd21283d>, line 1)",
          "traceback": [
            "\u001b[0;36m  File \u001b[0;32m\"<ipython-input-1-a9decd21283d>\"\u001b[0;36m, line \u001b[0;32m1\u001b[0m\n\u001b[0;31m    <!DOCTYPE html>\u001b[0m\n\u001b[0m    ^\u001b[0m\n\u001b[0;31mSyntaxError\u001b[0m\u001b[0;31m:\u001b[0m invalid syntax\n"
          ]
        }
      ],
      "source": [
        "<!DOCTYPE html>\n",
        "<html lang=\"en\">\n",
        "<head>\n",
        "  <meta charset=\"UTF-8\">\n",
        "  <meta name=\"viewport\" content=\"width=device-width, initial-scale=1.0\">\n",
        "  <title>Interactive Navigation Menu</title>\n",
        "  <link rel=\"stylesheet\" href=\"styles.css\">\n",
        "</head>\n",
        "<body>\n",
        "  <nav id=\"navbar\">\n",
        "    <ul>\n",
        "      <li><a href=\"#home\">Home</a></li>\n",
        "      <li><a href=\"#about\">About</a></li>\n",
        "      <li><a href=\"#services\">Services</a></li>\n",
        "      <li><a href=\"#contact\">Contact</a></li>\n",
        "    </ul>\n",
        "  </nav>\n",
        "  <div id=\"content\">\n",
        "    <!-- Your page content here -->\n",
        "  </div>\n",
        "  <script src=\"script.js\"></script>\n",
        "</body>\n",
        "</html>"
      ]
    }
  ]
}