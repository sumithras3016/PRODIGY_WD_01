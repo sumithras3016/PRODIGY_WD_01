{
  "nbformat": 4,
  "nbformat_minor": 0,
  "metadata": {
    "colab": {
      "provenance": [],
      "authorship_tag": "ABX9TyMiQ3eOz/3F7hGzgX8pvxMz",
      "include_colab_link": true
    },
    "kernelspec": {
      "name": "python3",
      "display_name": "Python 3"
    },
    "language_info": {
      "name": "python"
    }
  },
  "cells": [
    {
      "cell_type": "markdown",
      "metadata": {
        "id": "view-in-github",
        "colab_type": "text"
      },
      "source": [
        "<a href=\"https://colab.research.google.com/github/sumithras3016/PRODIGY_WD_01/blob/main/Untitled25.ipynb\" target=\"_parent\"><img src=\"https://colab.research.google.com/assets/colab-badge.svg\" alt=\"Open In Colab\"/></a>"
      ]
    },
    {
      "cell_type": "code",
      "execution_count": null,
      "metadata": {
        "id": "W66LpNWwiWfh"
      },
      "outputs": [],
      "source": [
        "body {\n",
        "  margin: 0;\n",
        "  font-family: Arial, sans-serif;\n",
        "}\n",
        "\n",
        "nav {\n",
        "  position: fixed;\n",
        "  top: 0;\n",
        "  left: 0;\n",
        "  width: 100%;\n",
        "  background-color: transparent;\n",
        "  z-index: 1000;\n",
        "  transition: background-color 0.3s ease;\n",
        "}\n",
        "\n",
        "nav ul {\n",
        "  list-style-type: none;\n",
        "  margin: 0;\n",
        "  padding: 0;\n",
        "  display: flex;\n",
        "}\n",
        "\n",
        "nav ul li {\n",
        "  margin-right: 20px;\n",
        "}\n",
        "\n",
        "nav ul li a {\n",
        "  text-decoration: none;\n",
        "  color: #333;\n",
        "  transition: color 0.3s ease;\n",
        "}\n",
        "\n",
        "#content {\n",
        "  height: 1500px; /* Adjust this height to test scrolling */\n",
        "}"
      ]
    }
  ]
}