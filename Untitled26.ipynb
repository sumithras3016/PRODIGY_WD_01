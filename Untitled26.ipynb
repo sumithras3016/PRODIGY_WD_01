{
  "nbformat": 4,
  "nbformat_minor": 0,
  "metadata": {
    "colab": {
      "provenance": [],
      "authorship_tag": "ABX9TyPh6CO0TG3udgqB0S0aTHcx",
      "include_colab_link": true
    },
    "kernelspec": {
      "name": "python3",
      "display_name": "Python 3"
    },
    "language_info": {
      "name": "python"
    }
  },
  "cells": [
    {
      "cell_type": "markdown",
      "metadata": {
        "id": "view-in-github",
        "colab_type": "text"
      },
      "source": [
        "<a href=\"https://colab.research.google.com/github/sumithras3016/PRODIGY_WD_01/blob/main/Untitled26.ipynb\" target=\"_parent\"><img src=\"https://colab.research.google.com/assets/colab-badge.svg\" alt=\"Open In Colab\"/></a>"
      ]
    },
    {
      "cell_type": "code",
      "execution_count": null,
      "metadata": {
        "id": "dKBW179jlU27"
      },
      "outputs": [],
      "source": [
        "window.addEventListener('scroll', function() {\n",
        "  var navbar = document.getElementById('navbar');\n",
        "  if (window.scrollY > 50) {\n",
        "    navbar.style.backgroundColor = '#333'; // Change background color on scroll\n",
        "  } else {\n",
        "    navbar.style.backgroundColor = 'transparent'; // Revert to transparent background when scrolled to top\n",
        "  }\n",
        "});\n",
        "\n",
        "var navLinks = document.querySelectorAll('nav ul li a');\n",
        "navLinks.forEach(function(link) {\n",
        "  link.addEventListener('mouseenter', function() {\n",
        "    this.style.color = '#ff0000'; // Change font color on hover\n",
        "  });\n",
        "  link.addEventListener('mouseleave', function() {\n",
        "    this.style.color = '#333'; // Revert font color when not hovered\n",
        "  });\n",
        "});"
      ]
    }
  ]
}