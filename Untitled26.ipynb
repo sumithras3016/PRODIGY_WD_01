{
  "nbformat": 4,
  "nbformat_minor": 0,
  "metadata": {
    "colab": {
      "provenance": [],
      "authorship_tag": "ABX9TyM2YpV4xrvqvQSU4DZvk93A",
      "include_colab_link": true
    },
    "kernelspec": {
      "name": "python3",
      "display_name": "Python 3"
    },
    "language_info": {
      "name": "python"
    }
  },
  "cells": [
    {
      "cell_type": "markdown",
      "metadata": {
        "id": "view-in-github",
        "colab_type": "text"
      },
      "source": [
        "<a href=\"https://colab.research.google.com/github/sumithras3016/PRODIGY_WD_01/blob/main/Untitled26.ipynb\" target=\"_parent\"><img src=\"https://colab.research.google.com/assets/colab-badge.svg\" alt=\"Open In Colab\"/></a>"
      ]
    },
    {
      "cell_type": "code",
      "execution_count": 1,
      "metadata": {
        "id": "dKBW179jlU27",
        "outputId": "9bd4f130-722b-4faf-de33-e6af3fb7d6ea",
        "colab": {
          "base_uri": "https://localhost:8080/",
          "height": 158
        }
      },
      "outputs": [
        {
          "output_type": "error",
          "ename": "SyntaxError",
          "evalue": "invalid syntax. Perhaps you forgot a comma? (<ipython-input-1-4a9fd5f649af>, line 2)",
          "traceback": [
            "\u001b[0;36m  File \u001b[0;32m\"<ipython-input-1-4a9fd5f649af>\"\u001b[0;36m, line \u001b[0;32m2\u001b[0m\n\u001b[0;31m    var navbar = document.getElementById('navbar');\u001b[0m\n\u001b[0m    ^\u001b[0m\n\u001b[0;31mSyntaxError\u001b[0m\u001b[0;31m:\u001b[0m invalid syntax. Perhaps you forgot a comma?\n"
          ]
        }
      ],
      "source": [
        "window.addEventListener('scroll', function() {\n",
        "  var navbar = document.getElementById('navbar');\n",
        "  if (window.scrollY > 50) {\n",
        "    navbar.style.backgroundColor = '#333'; // Change background color on scroll\n",
        "  } else {\n",
        "    navbar.style.backgroundColor = 'transparent'; // Revert to transparent background when scrolled to top\n",
        "  }\n",
        "});\n",
        "\n",
        "var navLinks = document.querySelectorAll('nav ul li a');\n",
        "navLinks.forEach(function(link) {\n",
        "  link.addEventListener('mouseenter', function() {\n",
        "    this.style.color = '#ff0000'; // Change font color on hover\n",
        "  });\n",
        "  link.addEventListener('mouseleave', function() {\n",
        "    this.style.color = '#333'; // Revert font color when not hovered\n",
        "  });\n",
        "});"
      ]
    },
    {
      "cell_type": "code",
      "source": [],
      "metadata": {
        "id": "AdMsFoqBlZBt"
      },
      "execution_count": null,
      "outputs": []
    }
  ]
}